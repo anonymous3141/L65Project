{
 "cells": [
  {
   "cell_type": "markdown",
   "metadata": {},
   "source": [
    "# Results"
   ]
  },
  {
   "cell_type": "code",
   "execution_count": 32,
   "metadata": {},
   "outputs": [],
   "source": [
    "import wandb\n",
    "import matplotlib.pyplot as plt\n",
    "import pandas as pd\n",
    "import numpy as np"
   ]
  },
  {
   "cell_type": "code",
   "execution_count": 35,
   "metadata": {},
   "outputs": [],
   "source": [
    "def get_runs(entity, project): #(entity, project, log_keys=None, filters=None):\n",
    "    api = wandb.Api(timeout=20)\n",
    "    runs = api.runs(f\"{entity}/{project}\", filters={\"created_at\": {\"$gt\": \"2025-02-23T20\"}})\n",
    "    print(f\"Found {len(runs)} runs.\")\n",
    "    history = []\n",
    "    for run in runs:\n",
    "        #if log_keys:\n",
    "        #    for log in run.scan_history(keys=log_keys):\n",
    "        #        log[\"config\"] = dict(run.config)\n",
    "        #        history.append(log)\n",
    "        #else:\n",
    "        history.append({\"config\": dict(run.config), **dict(run.summary)})\n",
    "\n",
    "    df = pd.json_normalize(history)\n",
    "    return runs, df"
   ]
  },
  {
   "cell_type": "code",
   "execution_count": 36,
   "metadata": {},
   "outputs": [
    {
     "name": "stdout",
     "output_type": "stream",
     "text": [
      "Found 32 runs.\n"
     ]
    }
   ],
   "source": [
    "runs, df = get_runs(\"jccamml\",\"L65-project\")"
   ]
  },
  {
   "cell_type": "code",
   "execution_count": 37,
   "metadata": {},
   "outputs": [],
   "source": [
    "df_full = df[df['_step'] > 8000]"
   ]
  },
  {
   "cell_type": "code",
   "execution_count": 27,
   "metadata": {},
   "outputs": [
    {
     "data": {
      "text/plain": [
       "['config.hint_teacher_forcing']"
      ]
     },
     "execution_count": 27,
     "metadata": {},
     "output_type": "execute_result"
    }
   ],
   "source": [
    "[c for c in df_full.columns if \"teacher\" in c]"
   ]
  },
  {
   "cell_type": "code",
   "execution_count": 15,
   "metadata": {},
   "outputs": [
    {
     "data": {
      "text/plain": [
       "0              [heapsort]\n",
       "16       [insertion_sort]\n",
       "17       [insertion_sort]\n",
       "35       [insertion_sort]\n",
       "36             [heapsort]\n",
       "37             [heapsort]\n",
       "38    [activity_selector]\n",
       "39             [heapsort]\n",
       "40       [insertion_sort]\n",
       "41    [activity_selector]\n",
       "42    [activity_selector]\n",
       "43       [insertion_sort]\n",
       "44             [heapsort]\n",
       "45    [activity_selector]\n",
       "46       [insertion_sort]\n",
       "47             [heapsort]\n",
       "48    [activity_selector]\n",
       "49       [insertion_sort]\n",
       "50             [heapsort]\n",
       "51       [insertion_sort]\n",
       "52    [activity_selector]\n",
       "Name: config.algorithms, dtype: object"
      ]
     },
     "execution_count": 15,
     "metadata": {},
     "output_type": "execute_result"
    }
   ],
   "source": [
    "df_full['config.algorithms']"
   ]
  },
  {
   "cell_type": "code",
   "execution_count": 22,
   "metadata": {},
   "outputs": [
    {
     "name": "stderr",
     "output_type": "stream",
     "text": [
      "/tmp/ipykernel_23478/205732895.py:1: SettingWithCopyWarning: \n",
      "A value is trying to be set on a copy of a slice from a DataFrame.\n",
      "Try using .loc[row_indexer,col_indexer] = value instead\n",
      "\n",
      "See the caveats in the documentation: https://pandas.pydata.org/pandas-docs/stable/user_guide/indexing.html#returning-a-view-versus-a-copy\n",
      "  df_full['config.algorithms'] = df_full['config.algorithms'].apply(lambda x: x[0])\n"
     ]
    }
   ],
   "source": [
    "df_full['config.algorithms'] = df_full['config.algorithms'].apply(lambda x: x[0])   "
   ]
  },
  {
   "cell_type": "code",
   "execution_count": 46,
   "metadata": {},
   "outputs": [
    {
     "name": "stderr",
     "output_type": "stream",
     "text": [
      "/tmp/ipykernel_23478/2090578102.py:1: FutureWarning: The provided callable <function mean at 0x72afa8101da0> is currently using DataFrameGroupBy.mean. In a future version of pandas, the provided callable will be used directly. To keep current behavior pass the string \"mean\" instead.\n",
      "  df_full.pivot_table(index=['config.processor_type', 'config.hint_teacher_forcing', 'config.mpnn_processor_aggregator'], values=['insertion_sort_test_score', 'activity_selector_test_score'], aggfunc=np.mean)\n"
     ]
    },
    {
     "data": {
      "text/html": [
       "<div>\n",
       "<style scoped>\n",
       "    .dataframe tbody tr th:only-of-type {\n",
       "        vertical-align: middle;\n",
       "    }\n",
       "\n",
       "    .dataframe tbody tr th {\n",
       "        vertical-align: top;\n",
       "    }\n",
       "\n",
       "    .dataframe thead th {\n",
       "        text-align: right;\n",
       "    }\n",
       "</style>\n",
       "<table border=\"1\" class=\"dataframe\">\n",
       "  <thead>\n",
       "    <tr style=\"text-align: right;\">\n",
       "      <th></th>\n",
       "      <th></th>\n",
       "      <th></th>\n",
       "      <th>activity_selector_test_score</th>\n",
       "      <th>insertion_sort_test_score</th>\n",
       "    </tr>\n",
       "    <tr>\n",
       "      <th>config.processor_type</th>\n",
       "      <th>config.hint_teacher_forcing</th>\n",
       "      <th>config.mpnn_processor_aggregator</th>\n",
       "      <th></th>\n",
       "      <th></th>\n",
       "    </tr>\n",
       "  </thead>\n",
       "  <tbody>\n",
       "    <tr>\n",
       "      <th rowspan=\"2\" valign=\"top\">differential_mpnn</th>\n",
       "      <th rowspan=\"2\" valign=\"top\">0.0</th>\n",
       "      <th>max</th>\n",
       "      <td>0.913444</td>\n",
       "      <td>0.023926</td>\n",
       "    </tr>\n",
       "    <tr>\n",
       "      <th>sum</th>\n",
       "      <td>0.663537</td>\n",
       "      <td>0.869141</td>\n",
       "    </tr>\n",
       "    <tr>\n",
       "      <th rowspan=\"2\" valign=\"top\">differential_mpnn2</th>\n",
       "      <th rowspan=\"2\" valign=\"top\">0.0</th>\n",
       "      <th>max</th>\n",
       "      <td>0.956522</td>\n",
       "      <td>0.291016</td>\n",
       "    </tr>\n",
       "    <tr>\n",
       "      <th>sum</th>\n",
       "      <td>0.821092</td>\n",
       "      <td>0.029297</td>\n",
       "    </tr>\n",
       "    <tr>\n",
       "      <th rowspan=\"2\" valign=\"top\">differential_mpnn_identity</th>\n",
       "      <th rowspan=\"2\" valign=\"top\">0.0</th>\n",
       "      <th>max</th>\n",
       "      <td>0.920578</td>\n",
       "      <td>0.578125</td>\n",
       "    </tr>\n",
       "    <tr>\n",
       "      <th>sum</th>\n",
       "      <td>0.211495</td>\n",
       "      <td>0.128906</td>\n",
       "    </tr>\n",
       "    <tr>\n",
       "      <th>differential_mpnn_maxmax</th>\n",
       "      <th>0.0</th>\n",
       "      <th>max</th>\n",
       "      <td>0.889680</td>\n",
       "      <td>0.581055</td>\n",
       "    </tr>\n",
       "    <tr>\n",
       "      <th>differential_mpnn_msgdiff</th>\n",
       "      <th>0.0</th>\n",
       "      <th>max</th>\n",
       "      <td>0.935543</td>\n",
       "      <td>NaN</td>\n",
       "    </tr>\n",
       "    <tr>\n",
       "      <th rowspan=\"4\" valign=\"top\">mpnn</th>\n",
       "      <th rowspan=\"2\" valign=\"top\">0.0</th>\n",
       "      <th>max</th>\n",
       "      <td>0.942238</td>\n",
       "      <td>0.617188</td>\n",
       "    </tr>\n",
       "    <tr>\n",
       "      <th>sum</th>\n",
       "      <td>0.649895</td>\n",
       "      <td>0.329102</td>\n",
       "    </tr>\n",
       "    <tr>\n",
       "      <th rowspan=\"2\" valign=\"top\">0.5</th>\n",
       "      <th>max</th>\n",
       "      <td>0.956679</td>\n",
       "      <td>0.149414</td>\n",
       "    </tr>\n",
       "    <tr>\n",
       "      <th>sum</th>\n",
       "      <td>0.238280</td>\n",
       "      <td>0.050293</td>\n",
       "    </tr>\n",
       "  </tbody>\n",
       "</table>\n",
       "</div>"
      ],
      "text/plain": [
       "                                                                                         activity_selector_test_score  \\\n",
       "config.processor_type      config.hint_teacher_forcing config.mpnn_processor_aggregator                                 \n",
       "differential_mpnn          0.0                         max                                                   0.913444   \n",
       "                                                       sum                                                   0.663537   \n",
       "differential_mpnn2         0.0                         max                                                   0.956522   \n",
       "                                                       sum                                                   0.821092   \n",
       "differential_mpnn_identity 0.0                         max                                                   0.920578   \n",
       "                                                       sum                                                   0.211495   \n",
       "differential_mpnn_maxmax   0.0                         max                                                   0.889680   \n",
       "differential_mpnn_msgdiff  0.0                         max                                                   0.935543   \n",
       "mpnn                       0.0                         max                                                   0.942238   \n",
       "                                                       sum                                                   0.649895   \n",
       "                           0.5                         max                                                   0.956679   \n",
       "                                                       sum                                                   0.238280   \n",
       "\n",
       "                                                                                         insertion_sort_test_score  \n",
       "config.processor_type      config.hint_teacher_forcing config.mpnn_processor_aggregator                             \n",
       "differential_mpnn          0.0                         max                                                0.023926  \n",
       "                                                       sum                                                0.869141  \n",
       "differential_mpnn2         0.0                         max                                                0.291016  \n",
       "                                                       sum                                                0.029297  \n",
       "differential_mpnn_identity 0.0                         max                                                0.578125  \n",
       "                                                       sum                                                0.128906  \n",
       "differential_mpnn_maxmax   0.0                         max                                                0.581055  \n",
       "differential_mpnn_msgdiff  0.0                         max                                                     NaN  \n",
       "mpnn                       0.0                         max                                                0.617188  \n",
       "                                                       sum                                                0.329102  \n",
       "                           0.5                         max                                                0.149414  \n",
       "                                                       sum                                                0.050293  "
      ]
     },
     "execution_count": 46,
     "metadata": {},
     "output_type": "execute_result"
    }
   ],
   "source": [
    "df_full.pivot_table(index=['config.processor_type', 'config.hint_teacher_forcing', 'config.mpnn_processor_aggregator'], values=['insertion_sort_test_score', 'activity_selector_test_score'], aggfunc=np.mean)"
   ]
  },
  {
   "cell_type": "code",
   "execution_count": null,
   "metadata": {},
   "outputs": [
    {
     "ename": "KeyError",
     "evalue": "'test_score_current_model_heapsort'",
     "output_type": "error",
     "traceback": [
      "\u001b[0;31m---------------------------------------------------------------------------\u001b[0m",
      "\u001b[0;31mKeyError\u001b[0m                                  Traceback (most recent call last)",
      "Cell \u001b[0;32mIn[39], line 1\u001b[0m\n\u001b[0;32m----> 1\u001b[0m \u001b[43mdf_full\u001b[49m\u001b[38;5;241;43m.\u001b[39;49m\u001b[43mpivot_table\u001b[49m\u001b[43m(\u001b[49m\u001b[43mindex\u001b[49m\u001b[38;5;241;43m=\u001b[39;49m\u001b[43m[\u001b[49m\u001b[38;5;124;43m'\u001b[39;49m\u001b[38;5;124;43mconfig.processor_type\u001b[39;49m\u001b[38;5;124;43m'\u001b[39;49m\u001b[43m,\u001b[49m\u001b[43m \u001b[49m\u001b[38;5;124;43m'\u001b[39;49m\u001b[38;5;124;43mconfig.hint_teacher_forcing\u001b[39;49m\u001b[38;5;124;43m'\u001b[39;49m\u001b[43m]\u001b[49m\u001b[43m,\u001b[49m\u001b[43m \u001b[49m\u001b[43mvalues\u001b[49m\u001b[38;5;241;43m=\u001b[39;49m\u001b[43m[\u001b[49m\u001b[38;5;124;43m'\u001b[39;49m\u001b[38;5;124;43mtest_score_current_model_heapsort\u001b[39;49m\u001b[38;5;124;43m'\u001b[39;49m\u001b[43m,\u001b[49m\u001b[43m \u001b[49m\u001b[38;5;124;43m'\u001b[39;49m\u001b[38;5;124;43minsertion_sort_test_score\u001b[39;49m\u001b[38;5;124;43m'\u001b[39;49m\u001b[43m,\u001b[49m\u001b[43m \u001b[49m\u001b[38;5;124;43m'\u001b[39;49m\u001b[38;5;124;43mactivity_selector_test_score\u001b[39;49m\u001b[38;5;124;43m'\u001b[39;49m\u001b[43m]\u001b[49m\u001b[43m,\u001b[49m\u001b[43m \u001b[49m\u001b[43maggfunc\u001b[49m\u001b[38;5;241;43m=\u001b[39;49m\u001b[38;5;28;43mlen\u001b[39;49m\u001b[43m)\u001b[49m\n",
      "File \u001b[0;32m~/clrs/clrs_env/lib/python3.12/site-packages/pandas/core/frame.py:9509\u001b[0m, in \u001b[0;36mDataFrame.pivot_table\u001b[0;34m(self, values, index, columns, aggfunc, fill_value, margins, dropna, margins_name, observed, sort)\u001b[0m\n\u001b[1;32m   9492\u001b[0m \u001b[38;5;129m@Substitution\u001b[39m(\u001b[38;5;124m\"\u001b[39m\u001b[38;5;124m\"\u001b[39m)\n\u001b[1;32m   9493\u001b[0m \u001b[38;5;129m@Appender\u001b[39m(_shared_docs[\u001b[38;5;124m\"\u001b[39m\u001b[38;5;124mpivot_table\u001b[39m\u001b[38;5;124m\"\u001b[39m])\n\u001b[1;32m   9494\u001b[0m \u001b[38;5;28;01mdef\u001b[39;00m\u001b[38;5;250m \u001b[39m\u001b[38;5;21mpivot_table\u001b[39m(\n\u001b[0;32m   (...)\u001b[0m\n\u001b[1;32m   9505\u001b[0m     sort: \u001b[38;5;28mbool\u001b[39m \u001b[38;5;241m=\u001b[39m \u001b[38;5;28;01mTrue\u001b[39;00m,\n\u001b[1;32m   9506\u001b[0m ) \u001b[38;5;241m-\u001b[39m\u001b[38;5;241m>\u001b[39m DataFrame:\n\u001b[1;32m   9507\u001b[0m     \u001b[38;5;28;01mfrom\u001b[39;00m\u001b[38;5;250m \u001b[39m\u001b[38;5;21;01mpandas\u001b[39;00m\u001b[38;5;21;01m.\u001b[39;00m\u001b[38;5;21;01mcore\u001b[39;00m\u001b[38;5;21;01m.\u001b[39;00m\u001b[38;5;21;01mreshape\u001b[39;00m\u001b[38;5;21;01m.\u001b[39;00m\u001b[38;5;21;01mpivot\u001b[39;00m\u001b[38;5;250m \u001b[39m\u001b[38;5;28;01mimport\u001b[39;00m pivot_table\n\u001b[0;32m-> 9509\u001b[0m     \u001b[38;5;28;01mreturn\u001b[39;00m \u001b[43mpivot_table\u001b[49m\u001b[43m(\u001b[49m\n\u001b[1;32m   9510\u001b[0m \u001b[43m        \u001b[49m\u001b[38;5;28;43mself\u001b[39;49m\u001b[43m,\u001b[49m\n\u001b[1;32m   9511\u001b[0m \u001b[43m        \u001b[49m\u001b[43mvalues\u001b[49m\u001b[38;5;241;43m=\u001b[39;49m\u001b[43mvalues\u001b[49m\u001b[43m,\u001b[49m\n\u001b[1;32m   9512\u001b[0m \u001b[43m        \u001b[49m\u001b[43mindex\u001b[49m\u001b[38;5;241;43m=\u001b[39;49m\u001b[43mindex\u001b[49m\u001b[43m,\u001b[49m\n\u001b[1;32m   9513\u001b[0m \u001b[43m        \u001b[49m\u001b[43mcolumns\u001b[49m\u001b[38;5;241;43m=\u001b[39;49m\u001b[43mcolumns\u001b[49m\u001b[43m,\u001b[49m\n\u001b[1;32m   9514\u001b[0m \u001b[43m        \u001b[49m\u001b[43maggfunc\u001b[49m\u001b[38;5;241;43m=\u001b[39;49m\u001b[43maggfunc\u001b[49m\u001b[43m,\u001b[49m\n\u001b[1;32m   9515\u001b[0m \u001b[43m        \u001b[49m\u001b[43mfill_value\u001b[49m\u001b[38;5;241;43m=\u001b[39;49m\u001b[43mfill_value\u001b[49m\u001b[43m,\u001b[49m\n\u001b[1;32m   9516\u001b[0m \u001b[43m        \u001b[49m\u001b[43mmargins\u001b[49m\u001b[38;5;241;43m=\u001b[39;49m\u001b[43mmargins\u001b[49m\u001b[43m,\u001b[49m\n\u001b[1;32m   9517\u001b[0m \u001b[43m        \u001b[49m\u001b[43mdropna\u001b[49m\u001b[38;5;241;43m=\u001b[39;49m\u001b[43mdropna\u001b[49m\u001b[43m,\u001b[49m\n\u001b[1;32m   9518\u001b[0m \u001b[43m        \u001b[49m\u001b[43mmargins_name\u001b[49m\u001b[38;5;241;43m=\u001b[39;49m\u001b[43mmargins_name\u001b[49m\u001b[43m,\u001b[49m\n\u001b[1;32m   9519\u001b[0m \u001b[43m        \u001b[49m\u001b[43mobserved\u001b[49m\u001b[38;5;241;43m=\u001b[39;49m\u001b[43mobserved\u001b[49m\u001b[43m,\u001b[49m\n\u001b[1;32m   9520\u001b[0m \u001b[43m        \u001b[49m\u001b[43msort\u001b[49m\u001b[38;5;241;43m=\u001b[39;49m\u001b[43msort\u001b[49m\u001b[43m,\u001b[49m\n\u001b[1;32m   9521\u001b[0m \u001b[43m    \u001b[49m\u001b[43m)\u001b[49m\n",
      "File \u001b[0;32m~/clrs/clrs_env/lib/python3.12/site-packages/pandas/core/reshape/pivot.py:102\u001b[0m, in \u001b[0;36mpivot_table\u001b[0;34m(data, values, index, columns, aggfunc, fill_value, margins, dropna, margins_name, observed, sort)\u001b[0m\n\u001b[1;32m     99\u001b[0m     table \u001b[38;5;241m=\u001b[39m concat(pieces, keys\u001b[38;5;241m=\u001b[39mkeys, axis\u001b[38;5;241m=\u001b[39m\u001b[38;5;241m1\u001b[39m)\n\u001b[1;32m    100\u001b[0m     \u001b[38;5;28;01mreturn\u001b[39;00m table\u001b[38;5;241m.\u001b[39m__finalize__(data, method\u001b[38;5;241m=\u001b[39m\u001b[38;5;124m\"\u001b[39m\u001b[38;5;124mpivot_table\u001b[39m\u001b[38;5;124m\"\u001b[39m)\n\u001b[0;32m--> 102\u001b[0m table \u001b[38;5;241m=\u001b[39m \u001b[43m__internal_pivot_table\u001b[49m\u001b[43m(\u001b[49m\n\u001b[1;32m    103\u001b[0m \u001b[43m    \u001b[49m\u001b[43mdata\u001b[49m\u001b[43m,\u001b[49m\n\u001b[1;32m    104\u001b[0m \u001b[43m    \u001b[49m\u001b[43mvalues\u001b[49m\u001b[43m,\u001b[49m\n\u001b[1;32m    105\u001b[0m \u001b[43m    \u001b[49m\u001b[43mindex\u001b[49m\u001b[43m,\u001b[49m\n\u001b[1;32m    106\u001b[0m \u001b[43m    \u001b[49m\u001b[43mcolumns\u001b[49m\u001b[43m,\u001b[49m\n\u001b[1;32m    107\u001b[0m \u001b[43m    \u001b[49m\u001b[43maggfunc\u001b[49m\u001b[43m,\u001b[49m\n\u001b[1;32m    108\u001b[0m \u001b[43m    \u001b[49m\u001b[43mfill_value\u001b[49m\u001b[43m,\u001b[49m\n\u001b[1;32m    109\u001b[0m \u001b[43m    \u001b[49m\u001b[43mmargins\u001b[49m\u001b[43m,\u001b[49m\n\u001b[1;32m    110\u001b[0m \u001b[43m    \u001b[49m\u001b[43mdropna\u001b[49m\u001b[43m,\u001b[49m\n\u001b[1;32m    111\u001b[0m \u001b[43m    \u001b[49m\u001b[43mmargins_name\u001b[49m\u001b[43m,\u001b[49m\n\u001b[1;32m    112\u001b[0m \u001b[43m    \u001b[49m\u001b[43mobserved\u001b[49m\u001b[43m,\u001b[49m\n\u001b[1;32m    113\u001b[0m \u001b[43m    \u001b[49m\u001b[43msort\u001b[49m\u001b[43m,\u001b[49m\n\u001b[1;32m    114\u001b[0m \u001b[43m\u001b[49m\u001b[43m)\u001b[49m\n\u001b[1;32m    115\u001b[0m \u001b[38;5;28;01mreturn\u001b[39;00m table\u001b[38;5;241m.\u001b[39m__finalize__(data, method\u001b[38;5;241m=\u001b[39m\u001b[38;5;124m\"\u001b[39m\u001b[38;5;124mpivot_table\u001b[39m\u001b[38;5;124m\"\u001b[39m)\n",
      "File \u001b[0;32m~/clrs/clrs_env/lib/python3.12/site-packages/pandas/core/reshape/pivot.py:148\u001b[0m, in \u001b[0;36m__internal_pivot_table\u001b[0;34m(data, values, index, columns, aggfunc, fill_value, margins, dropna, margins_name, observed, sort)\u001b[0m\n\u001b[1;32m    146\u001b[0m \u001b[38;5;28;01mfor\u001b[39;00m i \u001b[38;5;129;01min\u001b[39;00m values:\n\u001b[1;32m    147\u001b[0m     \u001b[38;5;28;01mif\u001b[39;00m i \u001b[38;5;129;01mnot\u001b[39;00m \u001b[38;5;129;01min\u001b[39;00m data:\n\u001b[0;32m--> 148\u001b[0m         \u001b[38;5;28;01mraise\u001b[39;00m \u001b[38;5;167;01mKeyError\u001b[39;00m(i)\n\u001b[1;32m    150\u001b[0m to_filter \u001b[38;5;241m=\u001b[39m []\n\u001b[1;32m    151\u001b[0m \u001b[38;5;28;01mfor\u001b[39;00m x \u001b[38;5;129;01min\u001b[39;00m keys \u001b[38;5;241m+\u001b[39m values:\n",
      "\u001b[0;31mKeyError\u001b[0m: 'test_score_current_model_heapsort'"
     ]
    }
   ],
   "source": [
    "df_full.pivot_table(index=['config.processor_type', 'config.hint_teacher_forcing'], values=['test_score_current_model_heapsort', 'insertion_sort_test_score', 'activity_selector_test_score'], aggfunc=np.mean)"
   ]
  },
  {
   "cell_type": "code",
   "execution_count": 24,
   "metadata": {},
   "outputs": [
    {
     "name": "stdout",
     "output_type": "stream",
     "text": [
      "heapsort\n",
      "|    | config.processor_type      |   test_score_current_model_heapsort |\n",
      "|---:|:---------------------------|------------------------------------:|\n",
      "|  0 | differential_mpnn          |                           0.706055  |\n",
      "| 36 | mpnn                       |                           0.368164  |\n",
      "| 37 | differential_mpnn2         |                           0.287598  |\n",
      "| 39 | differential_mpnn_identity |                           0.0454102 |\n",
      "| 44 | differential_mpnn          |                           0.382812  |\n",
      "| 47 | mpnn                       |                           0.120117  |\n",
      "| 50 | differential_mpnn_msgdiff  |                           0.45459   |\n",
      "\n",
      "insertion_sort\n",
      "|    | config.processor_type      |   test_score_current_model_insertion_sort |\n",
      "|---:|:---------------------------|------------------------------------------:|\n",
      "| 16 | differential_mpnn          |                                 0.675293  |\n",
      "| 17 | mpnn                       |                                 0.563477  |\n",
      "| 35 | mpnn                       |                                 0.654785  |\n",
      "| 40 | differential_mpnn          |                                 0.675293  |\n",
      "| 43 | mpnn                       |                                 0.563477  |\n",
      "| 46 | differential_mpnn_identity |                                 0.0478516 |\n",
      "| 49 | differential_mpnn2         |                                 0.265625  |\n",
      "| 51 | differential_mpnn_msgdiff  |                                 0.420898  |\n",
      "\n",
      "activity_selector\n",
      "|    | config.processor_type      |   test_score_current_model_activity_selector |\n",
      "|---:|:---------------------------|---------------------------------------------:|\n",
      "| 38 | mpnn                       |                                     0.937388 |\n",
      "| 41 | differential_mpnn2         |                                     0.887619 |\n",
      "| 42 | differential_mpnn          |                                     0.873524 |\n",
      "| 45 | mpnn                       |                                     0.924494 |\n",
      "| 48 | differential_mpnn_identity |                                     0.144737 |\n",
      "| 52 | differential_mpnn_msgdiff  |                                     0.393352 |\n",
      "\n"
     ]
    }
   ],
   "source": [
    "for algorithm in df_full['config.algorithms'].unique():\n",
    "    print(algorithm)\n",
    "    print(df_full[df_full['config.algorithms'] == algorithm][['config.processor_type', f'test_score_current_model_{algorithm}']].to_markdown())\n",
    "    print()"
   ]
  },
  {
   "cell_type": "code",
   "execution_count": 31,
   "metadata": {},
   "outputs": [
    {
     "name": "stderr",
     "output_type": "stream",
     "text": [
      "WARNING:2025-02-25 13:31:36,197:jax._src.xla_bridge:987: An NVIDIA GPU may be present on this machine, but a CUDA-enabled jaxlib is not installed. Falling back to cpu.\n"
     ]
    },
    {
     "data": {
      "text/plain": [
       "[CpuDevice(id=0)]"
      ]
     },
     "execution_count": 31,
     "metadata": {},
     "output_type": "execute_result"
    }
   ],
   "source": [
    "import jax \n",
    "jax.devices()"
   ]
  },
  {
   "cell_type": "code",
   "execution_count": 48,
   "metadata": {},
   "outputs": [
    {
     "data": {
      "text/plain": [
       "(3, 4, 1, 2)"
      ]
     },
     "execution_count": 48,
     "metadata": {},
     "output_type": "execute_result"
    }
   ],
   "source": [
    "np.expand_dims(np.zeros((3,4,2)),2).shape"
   ]
  },
  {
   "cell_type": "code",
   "execution_count": 50,
   "metadata": {},
   "outputs": [
    {
     "data": {
      "text/plain": [
       "(5, 7, 8)"
      ]
     },
     "execution_count": 50,
     "metadata": {},
     "output_type": "execute_result"
    }
   ],
   "source": [
    "np.mean(np.zeros((5,6,7,8)), axis=1).shape"
   ]
  },
  {
   "cell_type": "code",
   "execution_count": 15,
   "metadata": {},
   "outputs": [],
   "source": [
    "import jax \n",
    "import numpy as np\n",
    "import jax.numpy as jnp"
   ]
  },
  {
   "cell_type": "code",
   "execution_count": 48,
   "metadata": {},
   "outputs": [],
   "source": [
    "def entropy_from_softmax_logits(logits):\n",
    "  logZ = jax.scipy.special.logsumexp(logits, axis=-1)\n",
    "  ps = jax.scipy.special.softmax(logits, axis=-1)\n",
    "  #print(logZ.shape,(ps * logits).sum(axis=-1).shape)\n",
    "  return logZ.mean() - (ps * logits).sum(axis=-1).mean()"
   ]
  },
  {
   "cell_type": "code",
   "execution_count": 30,
   "metadata": {},
   "outputs": [
    {
     "name": "stdout",
     "output_type": "stream",
     "text": [
      "(1,) (1,)\n"
     ]
    },
    {
     "data": {
      "text/plain": [
       "Array(0.47868252, dtype=float32)"
      ]
     },
     "execution_count": 30,
     "metadata": {},
     "output_type": "execute_result"
    }
   ],
   "source": [
    "entropy_from_softmax_logits(np.array([[0]* 1000 + [10]])) ##np.random.randn(100,100,100) * np.inf) #,[1.,1.,1.],[0,100.,0.]"
   ]
  },
  {
   "cell_type": "code",
   "execution_count": 16,
   "metadata": {},
   "outputs": [
    {
     "name": "stdout",
     "output_type": "stream",
     "text": [
      "(1,) (1,)\n",
      "Test 1: 0.6931472 Expected: 0.6931472\n",
      "(1,) (1,)\n",
      "Test 2: 1.0986123 Expected: 1.0986123\n",
      "(1,) (1,)\n",
      "Test 3: 0.0 Expected: 0.0\n",
      "(1,) (1,)\n",
      "Test 4: 0.44105744\n",
      "(1,) (1,)\n",
      "Test 5: 1.0986328 Expected: 1.0986123\n",
      "(1000,) (1000,)\n",
      "Test 6: 2.3025856 Expected: 2.3025851\n"
     ]
    }
   ],
   "source": [
    "# 1. Basic Case: Small logits where we can compute entropy manually\n",
    "logits1 = jnp.array([[0.0, 0.0]])  # Uniform over two classes\n",
    "expected_entropy1 = jnp.log(2)  # log(2) ≈ 0.693\n",
    "print(\"Test 1:\", entropy_from_softmax_logits(logits1), \"Expected:\", expected_entropy1)\n",
    "\n",
    "# 2. Uniform distribution: Maximum entropy case\n",
    "logits2 = jnp.array([[1.0, 1.0, 1.0]])  # 3 equal probabilities\n",
    "expected_entropy2 = jnp.log(3)  # log(3) ≈ 1.099\n",
    "print(\"Test 2:\", entropy_from_softmax_logits(logits2), \"Expected:\", expected_entropy2)\n",
    "\n",
    "# 3. One-class dominance: Near-zero entropy\n",
    "logits3 = jnp.array([[10.0, -10.0]])  # Softmax will be ~ [1, 0]\n",
    "expected_entropy3 = 0.0\n",
    "print(\"Test 3:\", entropy_from_softmax_logits(logits3), \"Expected:\", expected_entropy3)\n",
    "\n",
    "# 4. Negative and positive logits\n",
    "logits4 = jnp.array([[-2.0, 0.0, 2.0]])\n",
    "entropy4 = entropy_from_softmax_logits(logits4)\n",
    "print(\"Test 4:\", entropy4)\n",
    "\n",
    "# 5. Large-scale logits: Check numerical stability\n",
    "logits5 = jnp.array([[1000.0, 1000.0, 1000.0]])  # Should still return log(3)\n",
    "expected_entropy5 = jnp.log(3)\n",
    "print(\"Test 5:\", entropy_from_softmax_logits(logits5), \"Expected:\", expected_entropy5)\n",
    "\n",
    "# 6. Large batch size\n",
    "logits6 = jnp.ones((1000, 10))  # 1000 samples, uniform 10-class distribution\n",
    "expected_entropy6 = jnp.log(10)\n",
    "print(\"Test 6:\", entropy_from_softmax_logits(logits6), \"Expected:\", expected_entropy6)"
   ]
  },
  {
   "cell_type": "code",
   "execution_count": 58,
   "metadata": {},
   "outputs": [
    {
     "name": "stdout",
     "output_type": "stream",
     "text": [
      "-800 -300 -0.00012207031\n"
     ]
    }
   ],
   "source": [
    "tmp = None\n",
    "for p in range(-1000,1000,100):\n",
    "    for c in range(-1000,1000,100):\n",
    "        logits = np.random.randn(100) * p + c\n",
    "        if entropy_from_softmax_logits(logits) < 0:\n",
    "            print(p,c,entropy_from_softmax_logits(logits))\n",
    "            tmp = logits\n",
    "            break"
   ]
  },
  {
   "cell_type": "code",
   "execution_count": 63,
   "metadata": {},
   "outputs": [
    {
     "name": "stdout",
     "output_type": "stream",
     "text": [
      "0: -0.0001220703125, 0.00012207258259877563\n",
      "1: -0.0001220703125, 0.00012207258259877563\n",
      "2: -0.0001220703125, 0.00012207258259877563\n",
      "3: -0.0001220703125, 0.00012207258259877563\n",
      "4: -0.0001220703125, 0.00012207258259877563\n",
      "5: -0.0001220703125, 0.00012207258259877563\n",
      "6: -0.0001220703125, 0.00012207258259877563\n",
      "7: -0.0001220703125, 0.00012207258259877563\n",
      "8: -0.0001220703125, 0.00012207258259877563\n",
      "9: -0.0001220703125, 0.00012207258259877563\n",
      "10: -0.0001220703125, 0.00012207258259877563\n",
      "11: -0.0001220703125, 0.00012207258259877563\n",
      "12: -0.0001220703125, 0.00012207258259877563\n",
      "13: -0.0001220703125, 0.00012207258259877563\n",
      "14: -0.0001220703125, 0.00012207258259877563\n",
      "15: -0.0001220703125, 0.00012207258259877563\n",
      "16: -0.0001220703125, 0.00012207258259877563\n",
      "17: -0.0001220703125, 0.00012207258259877563\n",
      "18: -0.0001220703125, 0.00012207258259877563\n",
      "19: -0.0001220703125, 0.00012207258259877563\n",
      "20: -0.0001220703125, 0.00012207258259877563\n",
      "21: -0.0001220703125, 0.00012207258259877563\n",
      "22: -0.0001220703125, 0.00012207258259877563\n",
      "23: -0.0001220703125, 0.00012207258259877563\n",
      "24: -0.0001220703125, 0.00012207258259877563\n",
      "25: -0.0001220703125, 0.00012207258259877563\n",
      "26: -0.0001220703125, 0.00012207258259877563\n",
      "27: -0.0001220703125, 0.00012207258259877563\n",
      "28: -0.0001220703125, 0.00012207258259877563\n",
      "29: -0.0001220703125, 0.00012207258259877563\n",
      "30: -0.0001220703125, 0.00012207258259877563\n",
      "31: -0.0001220703125, 0.00012207258259877563\n",
      "32: -0.0001220703125, 0.00012207258259877563\n",
      "33: -0.0001220703125, 0.00012207258259877563\n",
      "34: -0.0001220703125, 0.00012207258259877563\n",
      "35: -0.0001220703125, 0.00012207258259877563\n",
      "36: -0.0001220703125, 0.00012207258259877563\n",
      "37: -0.0001220703125, 0.00012207258259877563\n",
      "38: -0.0001220703125, 0.00012207258259877563\n",
      "39: -0.0001220703125, 0.00012207258259877563\n",
      "40: -0.0001220703125, 0.00012207258259877563\n",
      "41: -0.0001220703125, 0.00012207258259877563\n",
      "42: -0.0001220703125, 0.00012207258259877563\n",
      "43: -0.0001220703125, 0.00012207258259877563\n",
      "44: -0.0001220703125, 0.00012207258259877563\n",
      "45: -0.0001220703125, 0.00012207258259877563\n",
      "46: -0.0001220703125, 0.00012207258259877563\n",
      "47: -0.0001220703125, 0.00012207258259877563\n",
      "48: -0.0001220703125, 0.00012207258259877563\n",
      "49: -0.0001220703125, 0.00012207258259877563\n",
      "50: -0.0001220703125, 0.00012207258259877563\n",
      "51: -0.0001220703125, 0.00012207258259877563\n",
      "52: -0.0001220703125, 0.00012207258259877563\n",
      "53: -0.0001220703125, 0.00012207258259877563\n",
      "54: -0.0001220703125, 0.00012207258259877563\n",
      "55: -0.0001220703125, 0.00012207258259877563\n",
      "56: -0.0001220703125, 0.00012207258259877563\n",
      "57: -0.0001220703125, 0.00012207258259877563\n",
      "58: -0.0001220703125, 0.00012207258259877563\n",
      "59: -0.0001220703125, 0.00012207258259877563\n",
      "60: -0.0001220703125, 0.00012207258259877563\n",
      "61: -0.0001220703125, 0.00012207258259877563\n",
      "62: -0.0001220703125, 0.00012207258259877563\n",
      "63: -0.0001220703125, 0.00012207258259877563\n",
      "64: -0.0001220703125, 0.00012207258259877563\n",
      "65: -0.0001220703125, 0.00012207258259877563\n",
      "66: -0.0001220703125, 0.00012207258259877563\n",
      "67: -0.0001220703125, 0.00012207258259877563\n",
      "68: -0.0001220703125, 0.00012207258259877563\n",
      "69: -0.0001220703125, 0.00012207258259877563\n",
      "70: -0.0001220703125, 0.00012207258259877563\n",
      "71: -0.0001220703125, 0.00012207258259877563\n",
      "72: -0.0001220703125, 0.00012207258259877563\n",
      "73: -0.0001220703125, 0.00012207258259877563\n",
      "74: -0.0001220703125, 0.00012207258259877563\n",
      "75: -0.0001220703125, 0.00012207258259877563\n",
      "76: -0.0001220703125, 0.00012207258259877563\n",
      "77: -0.0001220703125, 0.00012207258259877563\n",
      "78: -0.0001220703125, 0.00012207258259877563\n",
      "79: -0.0001220703125, 0.00012207258259877563\n",
      "80: -0.0001220703125, 0.00012207258259877563\n",
      "81: -0.0001220703125, 0.00012207258259877563\n",
      "82: -0.0001220703125, 0.00012207258259877563\n",
      "83: -0.0001220703125, 0.00012207258259877563\n",
      "84: -0.0001220703125, 0.00012207258259877563\n",
      "85: -0.0001220703125, 0.00012207258259877563\n",
      "86: -0.0001220703125, 0.00012207258259877563\n",
      "87: -0.0001220703125, 0.00012207258259877563\n",
      "88: -0.0001220703125, 0.00012207258259877563\n",
      "89: -0.0001220703125, 0.00012207258259877563\n",
      "90: -0.0001220703125, 0.00012207258259877563\n",
      "91: -0.0001220703125, 0.00012207258259877563\n",
      "92: -0.0001220703125, 0.00012207258259877563\n",
      "93: -0.0001220703125, 0.00012207258259877563\n",
      "94: -0.0001220703125, 0.00012207258259877563\n",
      "95: -0.0001220703125, 0.00012207258259877563\n",
      "96: -0.0001220703125, 0.00012207258259877563\n",
      "97: -0.0001220703125, 0.00012207258259877563\n",
      "98: -0.0001220703125, 0.00012207258259877563\n",
      "99: -0.0001220703125, 0.00012207258259877563\n"
     ]
    }
   ],
   "source": [
    "logits = tmp[:]\n",
    "for i in range(100):\n",
    "    entropy, grad = jax.value_and_grad(entropy_from_softmax_logits)(logits)\n",
    "    print(f\"{i}: {entropy}, {jnp.linalg.norm(grad)}\")\n",
    "    logits -= 0.01 * grad"
   ]
  },
  {
   "cell_type": "code",
   "execution_count": 35,
   "metadata": {},
   "outputs": [
    {
     "data": {
      "text/plain": [
       "Array([20.], dtype=float32)"
      ]
     },
     "execution_count": 35,
     "metadata": {},
     "output_type": "execute_result"
    }
   ],
   "source": [
    "jax.scipy.special.logsumexp(logits , axis=-1)"
   ]
  },
  {
   "cell_type": "code",
   "execution_count": 38,
   "metadata": {},
   "outputs": [
    {
     "data": {
      "text/plain": [
       "Array([19.999998], dtype=float32)"
      ]
     },
     "execution_count": 38,
     "metadata": {},
     "output_type": "execute_result"
    }
   ],
   "source": [
    "(jax.scipy.special.softmax(logits , axis=-1) * logits).sum(axis=-1)"
   ]
  },
  {
   "cell_type": "markdown",
   "metadata": {},
   "source": [
    "# Results Analysis"
   ]
  },
  {
   "cell_type": "code",
   "execution_count": null,
   "metadata": {},
   "outputs": [],
   "source": [
    "import wandb\n",
    "import yaml  # For saving the config\n",
    "\n",
    "# Initialize API\n",
    "api = wandb.Api()\n",
    "\n",
    "# Define project details\n",
    "entity = \"your-entity\"   # Change to your entity name\n",
    "project = \"your-project\" # Change to your project name\n",
    "\n",
    "# Fetch runs\n",
    "runs = api.runs(f\"{entity}/{project}\")\n",
    "\n",
    "# Define filtering criteria (modify as needed)\n",
    "def filter_run(run):\n",
    "    return (\n",
    "        run.config.get(\"learning_rate\", 0) > 0.01 and \n",
    "        run.summary.get(\"accuracy\", 0) > 0.8\n",
    "    )\n",
    "\n",
    "# Extract configurations from matching runs\n",
    "filtered_configs = {run.name: run.config for run in runs if filter_run(run)}\n",
    "\n",
    "# Save to a config file\n",
    "with open(\"filtered_configs.yaml\", \"w\") as f:\n",
    "    yaml.dump(filtered_configs, f)\n",
    "\n",
    "print(f\"Saved {len(filtered_configs)} filtered configs.\")"
   ]
  },
  {
   "cell_type": "code",
   "execution_count": null,
   "metadata": {},
   "outputs": [],
   "source": [
    "import wandb\n",
    "# Initialize wandb API\n",
    "api = wandb.Api()\n",
    "\n",
    "# Define the project (replace with your actual project and entity)\n",
    "entity = \"jccamml\"\n",
    "project = \"L65-project\"\n",
    "\n",
    "# Fetch runs\n",
    "runs = api.runs(f\"{entity}/{project}\", {\n",
    "        \"created_at\": {\"$gt\": \"2025-03-23T01\"}, # greater than\n",
    "    })"
   ]
  },
  {
   "cell_type": "code",
   "execution_count": null,
   "metadata": {},
   "outputs": [],
   "source": [
    "\n",
    "import numpy as np\n",
    "import pandas as pd\n",
    "import matplotlib.pyplot as plt\n",
    "from scipy.stats import sem\n",
    "\n",
    "\n",
    "\n",
    "# Extract scores for all runs\n",
    "all_scores = {}\n",
    "\n",
    "score_field=\"charts/eval_avg_episodic_reward_new\"\n",
    "for run in runs:\n",
    "    cfg = run.config\n",
    "    summary = run.summary\n",
    "\n",
    "    if 'kadane' not in cfg['algorithms'][0] or summary.get('num_steps',0) < 80000:\n",
    "        continue\n",
    "    print(run.name, cfg, summary)\n",
    "    break"
   ]
  }
 ],
 "metadata": {
  "kernelspec": {
   "display_name": "clrs_env",
   "language": "python",
   "name": "python3"
  },
  "language_info": {
   "codemirror_mode": {
    "name": "ipython",
    "version": 3
   },
   "file_extension": ".py",
   "mimetype": "text/x-python",
   "name": "python",
   "nbconvert_exporter": "python",
   "pygments_lexer": "ipython3",
   "version": "3.12.3"
  }
 },
 "nbformat": 4,
 "nbformat_minor": 2
}
