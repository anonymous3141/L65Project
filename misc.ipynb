{
 "cells": [
  {
   "cell_type": "markdown",
   "metadata": {},
   "source": [
    "# Results"
   ]
  },
  {
   "cell_type": "code",
   "execution_count": 1,
   "metadata": {},
   "outputs": [],
   "source": [
    "import wandb\n",
    "import matplotlib.pyplot as plt\n",
    "import pandas as pd\n",
    "import numpy as np"
   ]
  },
  {
   "cell_type": "code",
   "execution_count": null,
   "metadata": {},
   "outputs": [],
   "source": [
    "def get_runs(entity, project, log_keys=None, filters=None):\n",
    "    api = wandb.Api(timeout=20)\n",
    "    runs = api.runs(f\"jccamml/{project}\", filters=filters)\n",
    "    print(f\"Found {len(runs)} runs.\")\n",
    "    history = []\n",
    "    for run in runs:\n",
    "        if log_keys:\n",
    "            for log in run.scan_history(keys=log_keys):\n",
    "                log[\"config\"] = dict(run.config)\n",
    "                history.append(log)\n",
    "        else:\n",
    "            history.append({\"config\": dict(run.config), **dict(run.summary)})\n",
    "\n",
    "    df = pd.json_normalize(history)\n",
    "    return runs, df"
   ]
  }
 ],
 "metadata": {
  "kernelspec": {
   "display_name": "clrs_env",
   "language": "python",
   "name": "python3"
  },
  "language_info": {
   "codemirror_mode": {
    "name": "ipython",
    "version": 3
   },
   "file_extension": ".py",
   "mimetype": "text/x-python",
   "name": "python",
   "nbconvert_exporter": "python",
   "pygments_lexer": "ipython3",
   "version": "3.12.3"
  }
 },
 "nbformat": 4,
 "nbformat_minor": 2
}
